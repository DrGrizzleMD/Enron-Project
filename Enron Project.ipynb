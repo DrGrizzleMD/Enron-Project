{
 "cells": [
  {
   "cell_type": "markdown",
   "metadata": {},
   "source": [
    "## Using Machine Learning To Identify Fraud in Enron Scandal\n",
    "</br>\n",
    "\n",
    "### By: Jonathan Grays\n",
    "</br>\n",
    "\n",
    "### February 2020"
   ]
  },
  {
   "cell_type": "markdown",
   "metadata": {},
   "source": [
    "### Table of Contents\n",
    "<li><a href=\"#overview\">Overview</a></li>\n",
    "<li><a href=\"#projectgoal\">Project Goal</a></li>\n",
    "<li><a href=\"#questionsaboutdataset\">Questions about Dataset</a></li>\n",
    "    <ol>\n",
    "    <li><a href=\"#howmanypeople\">How many people are in the dataset?</a></li>\n",
    "    <li><a href=\"#namesofpeople\">Names of people in dataset?</a></li>\n",
    "    <li><a href=\"#featuresperperson\">What features do we have for each person?</a></li>\n",
    "    <li><a href=\"#whoarepois\">Who are the POIs?</a></li>\n",
    "    <li><a href=\"#useful\">Do any features stick out as initially useful?</a></li>\n",
    "    </ol>\n",
    "<li><a href=\"#nans\">Dealing with NaNs</a></li>\n",
    "<li><a href=\"#customfeatures\">Custom Feature Exploration</a></li>\n",
    "<li><a href=\"#missingvalues\">Missing Values</a></li>\n",
    "<li><a href=\"#selectingfeatures\">Selecting Features</a></li>\n",
    "<li><a href=\"#parametertuning\">Parameter Tuning</a></li>\n",
    "<li><a href=\"#wrapup\">Project Wrap Up</a></li>"
   ]
  },
  {
   "cell_type": "markdown",
   "metadata": {},
   "source": [
    "<a id='overview'></a>\n",
    "### Overview\n",
    "</br>\n",
    "\n",
    "Write an overview of Enron's history leading up to and including fraud\n",
    "\n",
    "<a id='projectgoal'></a>\n",
    "### Project Goal\n",
    "The goal of this project is to create a machine learning program/algorithm that will try to identify persons of interest in the Enron Financial Scandal.  Machine learning is a useful means to do this as it can be scaled up to datasets of almost any size.  Fortunately, since we know the persons of interest ahead of times, we can use a supervised algorithm to construct our identifier.  This can be accomplished by picking the features within our dataset that separate our POIs from the non-POIS in the best way.\n",
    "\n",
    "We will first start our project with answering some basic questions about the data.  Once we have the basic information we will move on to visualizing our features and any correlations/outliers that may exist."
   ]
  },
  {
   "cell_type": "code",
   "execution_count": 1,
   "metadata": {},
   "outputs": [
    {
     "name": "stdout",
     "output_type": "stream",
     "text": [
      "Dataset Type:  <class 'dict'>\n"
     ]
    }
   ],
   "source": [
    "# Import starting packages\n",
    "# Others will be added as necessary\n",
    "\n",
    "import sys\n",
    "sys.path.append(\"..\\\\tools\\\\\")\n",
    "import pickle\n",
    "import sklearn\n",
    "import pandas as pd\n",
    "import numpy as np\n",
    "import pprint\n",
    "\n",
    "# Bring data into a dictionary\n",
    "\n",
    "enron_dict = pd.read_pickle(r\"final_project_dataset.pkl\")\n",
    "\n",
    "# Ensure correct datatype\n",
    "print('Dataset Type: ', type(enron_dict))"
   ]
  },
  {
   "cell_type": "markdown",
   "metadata": {},
   "source": [
    "<a id='questionsaboutdataset'></a>\n",
    "### Questions about Dataset\n",
    "\n",
    "1. How many people are in the dataset?\n",
    "2. Names of people in dataset?\n",
    "3. What features do we have for them? (What info is recorded?)\n",
    "4. Who are the POIs? (Persons of Interest)\n",
    "5. Do any features stick out as initially useful?"
   ]
  },
  {
   "cell_type": "markdown",
   "metadata": {},
   "source": [
    "<a id='howmanypeople'></a></br>\n",
    "1. <u>How many people are in the dataset?</u>"
   ]
  },
  {
   "cell_type": "code",
   "execution_count": 42,
   "metadata": {},
   "outputs": [
    {
     "name": "stdout",
     "output_type": "stream",
     "text": [
      "Number of people in dataset:  145\n"
     ]
    }
   ],
   "source": [
    "# Print the number of people in dataset\n",
    "\n",
    "print(\"Number of people in dataset: \", len(enron_dict))"
   ]
  },
  {
   "cell_type": "markdown",
   "metadata": {},
   "source": [
    "<a id='namesofpeople'></a></br>\n",
    "2. <u>Names of people in dataset?</u>"
   ]
  },
  {
   "cell_type": "code",
   "execution_count": 43,
   "metadata": {},
   "outputs": [],
   "source": [
    "# Using pretty print to display names of people in the dataset\n",
    "# Will be sorted by Last Name\n",
    "\n",
    "printing = pprint.PrettyPrinter()\n",
    "\n",
    "names = sorted(enron_dict.keys())"
   ]
  },
  {
   "cell_type": "markdown",
   "metadata": {},
   "source": [
    "<a id='featuresperperson'></a></br>\n",
    "3. <u>What features do we have for each person?</u>"
   ]
  },
  {
   "cell_type": "code",
   "execution_count": 4,
   "metadata": {},
   "outputs": [
    {
     "name": "stdout",
     "output_type": "stream",
     "text": [
      "One example from the dataset:\n",
      "{'bonus': 850000,\n",
      " 'deferral_payments': 'NaN',\n",
      " 'deferred_income': 'NaN',\n",
      " 'director_fees': 'NaN',\n",
      " 'email_address': 'jeremy.blachman@enron.com',\n",
      " 'exercised_stock_options': 765313,\n",
      " 'expenses': 84208,\n",
      " 'from_messages': 14,\n",
      " 'from_poi_to_this_person': 25,\n",
      " 'from_this_person_to_poi': 2,\n",
      " 'loan_advances': 'NaN',\n",
      " 'long_term_incentive': 831809,\n",
      " 'other': 272,\n",
      " 'poi': False,\n",
      " 'restricted_stock': 189041,\n",
      " 'restricted_stock_deferred': 'NaN',\n",
      " 'salary': 248546,\n",
      " 'shared_receipt_with_poi': 2326,\n",
      " 'to_messages': 2475,\n",
      " 'total_payments': 2014835,\n",
      " 'total_stock_value': 954354}\n"
     ]
    }
   ],
   "source": [
    "# Printing an example person and their corresponding dictionary\n",
    "\n",
    "print(\"One example from the dataset:\")\n",
    "\n",
    "printing.pprint(enron_dict['BLACHMAN JEREMY M'])"
   ]
  },
  {
   "cell_type": "markdown",
   "metadata": {},
   "source": [
    "<a id='whoarepois'></a></br>\n",
    "4. <u>Who are the POIs?</u>"
   ]
  },
  {
   "cell_type": "code",
   "execution_count": 5,
   "metadata": {},
   "outputs": [],
   "source": [
    "# Import dictionary as a dataframe\n",
    "\n",
    "enron_df = pd.DataFrame(enron_dict)\n",
    "\n",
    "# Flip Names to be row headers\n",
    "enron_df = enron_df.transpose()"
   ]
  },
  {
   "cell_type": "code",
   "execution_count": 6,
   "metadata": {},
   "outputs": [
    {
     "name": "stdout",
     "output_type": "stream",
     "text": [
      "Number of POIs:  18\n",
      "['HANNON KEVIN P',\n",
      " 'COLWELL WESLEY',\n",
      " 'RIEKER PAULA H',\n",
      " 'KOPPER MICHAEL J',\n",
      " 'SHELBY REX',\n",
      " 'DELAINEY DAVID W',\n",
      " 'LAY KENNETH L',\n",
      " 'BOWEN JR RAYMOND M',\n",
      " 'BELDEN TIMOTHY N',\n",
      " 'FASTOW ANDREW S',\n",
      " 'CALGER CHRISTOPHER F',\n",
      " 'RICE KENNETH D',\n",
      " 'SKILLING JEFFREY K',\n",
      " 'YEAGER F SCOTT',\n",
      " 'HIRKO JOSEPH',\n",
      " 'KOENIG MARK E',\n",
      " 'CAUSEY RICHARD A',\n",
      " 'GLISAN JR BEN F']\n"
     ]
    }
   ],
   "source": [
    "# Display names and number of POIs\n",
    "\n",
    "poi_list = enron_df.index[enron_df['poi'] == True].tolist()\n",
    "\n",
    "print(\"Number of POIs: \", len(poi_list))\n",
    "\n",
    "printing.pprint(poi_list)"
   ]
  },
  {
   "cell_type": "markdown",
   "metadata": {},
   "source": [
    "<a id='useful'></a></br>\n",
    "5. <u>Do any features stick out as initially useful?</u>"
   ]
  },
  {
   "cell_type": "markdown",
   "metadata": {},
   "source": [
    "- Since we are dealing with financial fraud, features like 'bonus', 'salary', 'total_payments', 'exercised_stock_options' and 'total_stock_value' seem like a good place to start. Also, 'from_poi_to_this_person' and 'from_this_person_to_poi' caught my attention as well since these could lead to patterns of communication with the POIs (paper trails).\n",
    "\n",
    "- I will create a new feature for this dataset that is derived from the emails to and from a POI for a given person in our list.  A lot of direct communication with a POI may not be all that useful to us (if say a non-POI directly reported to a POI, they would certainly have had a good amount of email correspondence).  So instead, let's transform these features into a proportion of email correspondence with a POI to total emails sent/received per person.\n",
    "\n",
    "- Before creating this new feature, I will need to convert my columns that contain numeric data into float types."
   ]
  },
  {
   "cell_type": "code",
   "execution_count": 7,
   "metadata": {},
   "outputs": [],
   "source": [
    "# Sets selected columns (all but email_address and POI) to numeric/float type\n",
    "\n",
    "cols = ['salary', 'to_messages', 'deferral_payments', 'total_payments', 'loan_advances', 'bonus','restricted_stock_deferred',\n",
    "        'deferred_income', 'total_stock_value', 'expenses', 'from_poi_to_this_person', 'exercised_stock_options',\n",
    "        'from_messages', 'other', 'from_this_person_to_poi', 'long_term_incentive', 'shared_receipt_with_poi',\n",
    "        'restricted_stock','director_fees']\n",
    "enron_df[cols] = enron_df[cols].apply(pd.to_numeric, errors='coerce', axis=1)\n",
    "\n",
    "enron_df = enron_df.reset_index()\n",
    "\n",
    "enron_df.rename(columns={\"index\": \"name\"}, inplace=True)"
   ]
  },
  {
   "cell_type": "markdown",
   "metadata": {},
   "source": [
    "<a id='nans'></a>\n",
    "\n",
    "- There are quite a few NaN values in this dataset, which could be a bit discouraging.  Depending on the column that those NaNs are under they could be omitted or overwritten with zeroes."
   ]
  },
  {
   "cell_type": "markdown",
   "metadata": {},
   "source": [
    "- Now lets visualize some of the financial data to see if we can see any trends and/or outliers that would shape our perspective of this data.\n",
    "</br>\n",
    "</br>\n",
    "\n",
    "- First we shall plot Salary and Bonus information"
   ]
  },
  {
   "cell_type": "code",
   "execution_count": 10,
   "metadata": {},
   "outputs": [
    {
     "data": {
      "image/png": "[encoded data removed]",
      "text/plain": [
       "<Figure size 432x288 with 1 Axes>"
      ]
     },
     "metadata": {
      "needs_background": "light"
     },
     "output_type": "display_data"
    }
   ],
   "source": [
    "# Plot of salary (x-axis) and bonus (y-axis)\n",
    "\n",
    "import matplotlib.pyplot as plt\n",
    "%matplotlib inline\n",
    "\n",
    "plt.title('Salary vs Bonus', fontsize = 18)\n",
    "plt.scatter('salary', 'bonus', data = enron_df)\n",
    "plt.xlabel('Salary (in millions)', fontsize = 15)\n",
    "plt.ylabel('Bonus (in millions)', fontsize = 15)\n",
    "plt.show()\n",
    "\n"
   ]
  },
  {
   "cell_type": "markdown",
   "metadata": {},
   "source": [
    "- Immediately we see a very distinct outlier.  This entry is definitely skewing our data.  In it's current state we can't really infer much of what the graph is trying to tell us.  We should take a look at the entry to make sure this is not an error."
   ]
  },
  {
   "cell_type": "code",
   "execution_count": 11,
   "metadata": {},
   "outputs": [
    {
     "data": {
      "text/html": [
       "<div>\n",
       "<style scoped>\n",
       "    .dataframe tbody tr th:only-of-type {\n",
       "        vertical-align: middle;\n",
       "    }\n",
       "\n",
       "    .dataframe tbody tr th {\n",
       "        vertical-align: top;\n",
       "    }\n",
       "\n",
       "    .dataframe thead th {\n",
       "        text-align: right;\n",
       "    }\n",
       "</style>\n",
       "<table border=\"1\" class=\"dataframe\">\n",
       "  <thead>\n",
       "    <tr style=\"text-align: right;\">\n",
       "      <th></th>\n",
       "      <th>name</th>\n",
       "      <th>salary</th>\n",
       "      <th>bonus</th>\n",
       "      <th>poi</th>\n",
       "    </tr>\n",
       "  </thead>\n",
       "  <tbody>\n",
       "    <tr>\n",
       "      <td>103</td>\n",
       "      <td>TOTAL</td>\n",
       "      <td>26704229.0</td>\n",
       "      <td>97343619.0</td>\n",
       "      <td>False</td>\n",
       "    </tr>\n",
       "  </tbody>\n",
       "</table>\n",
       "</div>"
      ],
      "text/plain": [
       "      name      salary       bonus    poi\n",
       "103  TOTAL  26704229.0  97343619.0  False"
      ]
     },
     "execution_count": 11,
     "metadata": {},
     "output_type": "execute_result"
    }
   ],
   "source": [
    "enron_df[(enron_df['salary']>2000000)][['name','salary','bonus','poi']]"
   ]
  },
  {
   "cell_type": "markdown",
   "metadata": {},
   "source": [
    "- The name \"TOTAL\" must be referring to some sort of calculation done on the data (likely the sum of all salaries in the dataset).  Since this information is also something we can calculate ourselves, I will be removing this entry and replotting."
   ]
  },
  {
   "cell_type": "code",
   "execution_count": 12,
   "metadata": {},
   "outputs": [
    {
     "data": {
      "text/html": [
       "<div>\n",
       "<style scoped>\n",
       "    .dataframe tbody tr th:only-of-type {\n",
       "        vertical-align: middle;\n",
       "    }\n",
       "\n",
       "    .dataframe tbody tr th {\n",
       "        vertical-align: top;\n",
       "    }\n",
       "\n",
       "    .dataframe thead th {\n",
       "        text-align: right;\n",
       "    }\n",
       "</style>\n",
       "<table border=\"1\" class=\"dataframe\">\n",
       "  <thead>\n",
       "    <tr style=\"text-align: right;\">\n",
       "      <th></th>\n",
       "      <th>name</th>\n",
       "      <th>salary</th>\n",
       "      <th>bonus</th>\n",
       "      <th>poi</th>\n",
       "    </tr>\n",
       "  </thead>\n",
       "  <tbody>\n",
       "  </tbody>\n",
       "</table>\n",
       "</div>"
      ],
      "text/plain": [
       "Empty DataFrame\n",
       "Columns: [name, salary, bonus, poi]\n",
       "Index: []"
      ]
     },
     "execution_count": 12,
     "metadata": {},
     "output_type": "execute_result"
    }
   ],
   "source": [
    "## remove the outlier and verify it is gone.\n",
    "\n",
    "df_remove_total = enron_df[ enron_df['name'] == 'TOTAL' ]\n",
    "\n",
    "enron_df = enron_df.drop(df_remove_total.index, axis=0)\n",
    "    \n",
    "enron_df[(enron_df['salary']>2000000)][['name','salary','bonus','poi']]"
   ]
  },
  {
   "cell_type": "code",
   "execution_count": 13,
   "metadata": {},
   "outputs": [
    {
     "data": {
      "text/plain": [
       "Text(28.05223090277778, 0.5, 'Bonus (in millions)')"
      ]
     },
     "execution_count": 13,
     "metadata": {},
     "output_type": "execute_result"
    },
    {
     "data": {
      "image/png": "[encoded data removed]",
      "text/plain": [
       "<Figure size 782.125x720 with 1 Axes>"
      ]
     },
     "metadata": {
      "needs_background": "light"
     },
     "output_type": "display_data"
    }
   ],
   "source": [
    "# Replot salary vs bonus // Also importing Seaborn for graph readability\n",
    "\n",
    "import seaborn as sns\n",
    "\n",
    "sns.lmplot(x='salary', y= 'bonus', hue='poi', data=enron_df, palette='Set1', height=10, markers=['x','o'])\n",
    "plt.title('Salary vs Bonus', fontsize = 18)\n",
    "plt.xlabel('Salary (in millions)', fontsize = 15)\n",
    "plt.ylabel('Bonus (in millions)', fontsize = 15)"
   ]
  },
  {
   "cell_type": "markdown",
   "metadata": {},
   "source": [
    "- Now we have a much better look at the Salary and Bonus data!\n",
    "\n",
    "</br>\n",
    "\n",
    "- Immediately, a few outliers stand out.  Let's find out who they are."
   ]
  },
  {
   "cell_type": "code",
   "execution_count": 14,
   "metadata": {},
   "outputs": [
    {
     "name": "stdout",
     "output_type": "stream",
     "text": [
      "Salary Outliers: \n",
      "                    name     salary    poi\n",
      "64        LAY KENNETH L  1072321.0   True\n",
      "95   SKILLING JEFFREY K  1111258.0   True\n",
      "128      FREVERT MARK A  1060932.0  False\n",
      "Bonus Outliers: \n",
      "                    name      bonus    poi\n",
      "42      LAVORATO JOHN J  8000000.0  False\n",
      "64        LAY KENNETH L  7000000.0   True\n",
      "81     BELDEN TIMOTHY N  5249999.0   True\n",
      "95   SKILLING JEFFREY K  5600000.0   True\n",
      "108     ALLEN PHILLIP K  4175000.0  False\n"
     ]
    }
   ],
   "source": [
    "# Looking at \n",
    "\n",
    "print(\"Salary Outliers: \\n\", enron_df[(enron_df['salary'] > 1000000)][['name', 'salary', 'poi']])\n",
    "\n",
    "print(\"Bonus Outliers: \\n\", enron_df[(enron_df['bonus'] > 4000000)][['name', 'bonus', 'poi']])"
   ]
  },
  {
   "cell_type": "markdown",
   "metadata": {},
   "source": [
    "- This has identified 3 POIs!  Two of which (Kenneth Lay and Jeffrey Skilling) are noted in both outliers lists... interesting.\n",
    "\n",
    "</br>\n",
    "\n",
    "- Just who are these two?  Research indicates that these two men are:\n",
    "    * Jeffrey Skilling: Former CEO and Chairman of Enron.  Resigned from company in August 2001\n",
    "    * Kenneth Lay: CEO, Founder and Chairman of Enron during the scandal.\n",
    "\n",
    "</br>\n",
    "\n",
    "- Beings that these men were both CEOs of Enron, it does makes sense that they would be at the top of the earnings for both earnings and salary.  What is suspicious is that the top three salaried people listed made nearly DOUBLE what the fourth ranked salaried person made.  That seems like quite a gap, even for a CEO.\n",
    "\n",
    "</br>\n",
    "\n"
   ]
  },
  {
   "cell_type": "markdown",
   "metadata": {},
   "source": [
    "<a id='customfeatures'></a>\n",
    "### Custom Feature Exploration\n",
    "\n",
    "- Now let's plot out and explore the custom features we created, \"fraction_emails_to_poi\" and \"fraction_emails_to_poi\"."
   ]
  },
  {
   "cell_type": "code",
   "execution_count": 8,
   "metadata": {},
   "outputs": [
    {
     "name": "stdout",
     "output_type": "stream",
     "text": [
      "<class 'pandas.core.frame.DataFrame'>\n",
      "RangeIndex: 146 entries, 0 to 145\n",
      "Data columns (total 24 columns):\n",
      "name                         146 non-null object\n",
      "salary                       95 non-null float64\n",
      "to_messages                  86 non-null float64\n",
      "deferral_payments            39 non-null float64\n",
      "total_payments               125 non-null float64\n",
      "loan_advances                4 non-null float64\n",
      "bonus                        82 non-null float64\n",
      "email_address                146 non-null object\n",
      "restricted_stock_deferred    18 non-null float64\n",
      "deferred_income              49 non-null float64\n",
      "total_stock_value            126 non-null float64\n",
      "expenses                     95 non-null float64\n",
      "from_poi_to_this_person      86 non-null float64\n",
      "exercised_stock_options      102 non-null float64\n",
      "from_messages                86 non-null float64\n",
      "other                        93 non-null float64\n",
      "from_this_person_to_poi      86 non-null float64\n",
      "poi                          146 non-null object\n",
      "long_term_incentive          66 non-null float64\n",
      "shared_receipt_with_poi      86 non-null float64\n",
      "restricted_stock             110 non-null float64\n",
      "director_fees                17 non-null float64\n",
      "fraction_emails_to_poi       86 non-null float64\n",
      "fraction_emails_from_poi     86 non-null float64\n",
      "dtypes: float64(21), object(3)\n",
      "memory usage: 27.5+ KB\n"
     ]
    }
   ],
   "source": [
    "# Added a feature listing the fraction of emails to and from POIs\n",
    "# Also fills in 'NaN' spaces\n",
    "enron_df['fraction_emails_to_poi'] = enron_df['from_this_person_to_poi'].fillna(0.0)/ (enron_df['to_messages'].fillna(0.0) + enron_df['from_this_person_to_poi'].fillna(0.0))\n",
    "\n",
    "enron_df['fraction_emails_from_poi'] = enron_df['from_poi_to_this_person'].fillna(0.0)/ (enron_df['from_messages'].fillna(0.0) + enron_df['from_poi_to_this_person'].fillna(0.0))\n",
    "\n",
    "enron_df.info()"
   ]
  },
  {
   "cell_type": "code",
   "execution_count": 9,
   "metadata": {},
   "outputs": [
    {
     "name": "stdout",
     "output_type": "stream",
     "text": [
      "{'bonus': 850000,\n",
      " 'deferral_payments': 'NaN',\n",
      " 'deferred_income': 'NaN',\n",
      " 'director_fees': 'NaN',\n",
      " 'email_address': 'jeremy.blachman@enron.com',\n",
      " 'exercised_stock_options': 765313,\n",
      " 'expenses': 84208,\n",
      " 'fraction_emails_from_poi': 0.6410256410256411,\n",
      " 'fraction_emails_to_poi': 0.0008074283407347598,\n",
      " 'from_messages': 14,\n",
      " 'from_poi_to_this_person': 25,\n",
      " 'from_this_person_to_poi': 2,\n",
      " 'loan_advances': 'NaN',\n",
      " 'long_term_incentive': 831809,\n",
      " 'other': 272,\n",
      " 'poi': False,\n",
      " 'restricted_stock': 189041,\n",
      " 'restricted_stock_deferred': 'NaN',\n",
      " 'salary': 248546,\n",
      " 'shared_receipt_with_poi': 2326,\n",
      " 'to_messages': 2475,\n",
      " 'total_payments': 2014835,\n",
      " 'total_stock_value': 954354}\n"
     ]
    }
   ],
   "source": [
    "# Adding 'fraction_emails_to_poi' to enron dictionary\n",
    "\n",
    "for name in enron_dict:\n",
    "    \n",
    "    enron_dict[name]['fraction_emails_to_poi'] = float(enron_dict[name]['from_this_person_to_poi'])/(float(enron_dict[name]['to_messages']) + (float(enron_dict[name]['from_this_person_to_poi'])))\n",
    "    enron_dict[name]['fraction_emails_from_poi'] = float(enron_dict[name]['from_poi_to_this_person'])/(float(enron_dict[name]['from_poi_to_this_person']) + (float(enron_dict[name]['from_messages'])))\n",
    "    \n",
    "printing.pprint(enron_dict['BLACHMAN JEREMY M'])"
   ]
  },
  {
   "cell_type": "code",
   "execution_count": 15,
   "metadata": {},
   "outputs": [
    {
     "data": {
      "text/plain": [
       "<matplotlib.axes._subplots.AxesSubplot at 0x27db8d65288>"
      ]
     },
     "execution_count": 15,
     "metadata": {},
     "output_type": "execute_result"
    },
    {
     "data": {
      "image/png": "[encoded data removed]",
      "text/plain": [
       "<Figure size 432x288 with 1 Axes>"
      ]
     },
     "metadata": {
      "needs_background": "light"
     },
     "output_type": "display_data"
    }
   ],
   "source": [
    "# Boxplot for out \"fraction_emails_to_poi\" feature\n",
    "\n",
    "sns.boxplot(x='poi',y='fraction_emails_from_poi',data= enron_df)"
   ]
  },
  {
   "cell_type": "markdown",
   "metadata": {},
   "source": [
    "- It seems that the email percentage sent to PoI from other POIs is higher than the percentage sent by non-POIs.  This could be attributed to most of the POIs being upper management and above (indicating they would work closely with eachother).  Regardless, I will include this in the list of features for the algorithm."
   ]
  },
  {
   "cell_type": "code",
   "execution_count": 16,
   "metadata": {},
   "outputs": [
    {
     "data": {
      "text/plain": [
       "<matplotlib.axes._subplots.AxesSubplot at 0x27dbab64848>"
      ]
     },
     "execution_count": 16,
     "metadata": {},
     "output_type": "execute_result"
    },
    {
     "data": {
      "image/png": "[encoded data removed]",
      "text/plain": [
       "<Figure size 432x288 with 1 Axes>"
      ]
     },
     "metadata": {
      "needs_background": "light"
     },
     "output_type": "display_data"
    }
   ],
   "source": [
    "# Boxplot for out \"fraction_emails_from_poi\" feature\n",
    "\n",
    "sns.boxplot(x='poi',y='fraction_emails_to_poi',data= enron_df)"
   ]
  },
  {
   "cell_type": "markdown",
   "metadata": {},
   "source": [
    "- There does not seem to be much of a difference when it comes to the emails sent from a POI.  This will not be used to train our machine learning algorithm."
   ]
  },
  {
   "cell_type": "markdown",
   "metadata": {},
   "source": [
    "<a id='missingvalues'></a>\n",
    "### Missing Values\n",
    "\n",
    "- Now, let's take a look at the features that are missing values.  Depending on the number of missing values in the respective features we may choose to omit them from the dataset."
   ]
  },
  {
   "cell_type": "code",
   "execution_count": 17,
   "metadata": {
    "scrolled": true
   },
   "outputs": [
    {
     "data": {
      "text/plain": [
       "name                           0\n",
       "salary                        51\n",
       "to_messages                   59\n",
       "deferral_payments            107\n",
       "total_payments                21\n",
       "loan_advances                142\n",
       "bonus                         64\n",
       "email_address                  0\n",
       "restricted_stock_deferred    128\n",
       "deferred_income               97\n",
       "total_stock_value             20\n",
       "expenses                      51\n",
       "from_poi_to_this_person       59\n",
       "exercised_stock_options       44\n",
       "from_messages                 59\n",
       "other                         53\n",
       "from_this_person_to_poi       59\n",
       "poi                            0\n",
       "long_term_incentive           80\n",
       "shared_receipt_with_poi       59\n",
       "restricted_stock              36\n",
       "director_fees                129\n",
       "fraction_emails_to_poi        59\n",
       "fraction_emails_from_poi      59\n",
       "dtype: int64"
      ]
     },
     "execution_count": 17,
     "metadata": {},
     "output_type": "execute_result"
    }
   ],
   "source": [
    "pd.set_option('display.max_rows', 200)\n",
    "pd.set_option('display.max_columns', 50)\n",
    "\n",
    "enron_df.isnull().sum()"
   ]
  },
  {
   "cell_type": "markdown",
   "metadata": {},
   "source": [
    "- From the dataframe info listed above, we can see several features are missing a lot of information.  We should as much info out as we feel comfortable with to cut down on any additional noise they would provide.  Such attributes I recommend removing are:\n",
    "\n",
    "    * email_address\n",
    "    * deferral_payments\n",
    "    * loan_advances\n",
    "    * restricted_stock_deferred\n",
    "    * director_fees\n",
    "</br>\n",
    "- After looking at the data I also recommend removing the rows for Total, as this info can be calculated separately if need be.  We should also remove the info for Eugene Lockhart as all of his information is NaN."
   ]
  },
  {
   "cell_type": "code",
   "execution_count": 18,
   "metadata": {},
   "outputs": [
    {
     "data": {
      "text/html": [
       "<div>\n",
       "<style scoped>\n",
       "    .dataframe tbody tr th:only-of-type {\n",
       "        vertical-align: middle;\n",
       "    }\n",
       "\n",
       "    .dataframe tbody tr th {\n",
       "        vertical-align: top;\n",
       "    }\n",
       "\n",
       "    .dataframe thead th {\n",
       "        text-align: right;\n",
       "    }\n",
       "</style>\n",
       "<table border=\"1\" class=\"dataframe\">\n",
       "  <thead>\n",
       "    <tr style=\"text-align: right;\">\n",
       "      <th></th>\n",
       "      <th>name</th>\n",
       "      <th>salary</th>\n",
       "      <th>to_messages</th>\n",
       "      <th>total_payments</th>\n",
       "      <th>bonus</th>\n",
       "      <th>deferred_income</th>\n",
       "      <th>total_stock_value</th>\n",
       "      <th>expenses</th>\n",
       "      <th>from_poi_to_this_person</th>\n",
       "      <th>exercised_stock_options</th>\n",
       "      <th>from_messages</th>\n",
       "      <th>other</th>\n",
       "      <th>from_this_person_to_poi</th>\n",
       "      <th>poi</th>\n",
       "      <th>long_term_incentive</th>\n",
       "      <th>shared_receipt_with_poi</th>\n",
       "      <th>restricted_stock</th>\n",
       "      <th>fraction_emails_to_poi</th>\n",
       "      <th>fraction_emails_from_poi</th>\n",
       "    </tr>\n",
       "  </thead>\n",
       "  <tbody>\n",
       "    <tr>\n",
       "      <td>0</td>\n",
       "      <td>METTS MARK</td>\n",
       "      <td>365788.0</td>\n",
       "      <td>807.0</td>\n",
       "      <td>1061827.0</td>\n",
       "      <td>600000.0</td>\n",
       "      <td>0.0</td>\n",
       "      <td>585062.0</td>\n",
       "      <td>94299.0</td>\n",
       "      <td>38.0</td>\n",
       "      <td>0.0</td>\n",
       "      <td>29.0</td>\n",
       "      <td>1740.0</td>\n",
       "      <td>1.0</td>\n",
       "      <td>False</td>\n",
       "      <td>0.0</td>\n",
       "      <td>702.0</td>\n",
       "      <td>585062.0</td>\n",
       "      <td>0.001238</td>\n",
       "      <td>0.567164</td>\n",
       "    </tr>\n",
       "    <tr>\n",
       "      <td>1</td>\n",
       "      <td>BAXTER JOHN C</td>\n",
       "      <td>267102.0</td>\n",
       "      <td>0.0</td>\n",
       "      <td>5634343.0</td>\n",
       "      <td>1200000.0</td>\n",
       "      <td>-1386055.0</td>\n",
       "      <td>10623258.0</td>\n",
       "      <td>11200.0</td>\n",
       "      <td>0.0</td>\n",
       "      <td>6680544.0</td>\n",
       "      <td>0.0</td>\n",
       "      <td>2660303.0</td>\n",
       "      <td>0.0</td>\n",
       "      <td>False</td>\n",
       "      <td>1586055.0</td>\n",
       "      <td>0.0</td>\n",
       "      <td>3942714.0</td>\n",
       "      <td>0.000000</td>\n",
       "      <td>0.000000</td>\n",
       "    </tr>\n",
       "    <tr>\n",
       "      <td>2</td>\n",
       "      <td>ELLIOTT STEVEN</td>\n",
       "      <td>170941.0</td>\n",
       "      <td>0.0</td>\n",
       "      <td>211725.0</td>\n",
       "      <td>350000.0</td>\n",
       "      <td>-400729.0</td>\n",
       "      <td>6678735.0</td>\n",
       "      <td>78552.0</td>\n",
       "      <td>0.0</td>\n",
       "      <td>4890344.0</td>\n",
       "      <td>0.0</td>\n",
       "      <td>12961.0</td>\n",
       "      <td>0.0</td>\n",
       "      <td>False</td>\n",
       "      <td>0.0</td>\n",
       "      <td>0.0</td>\n",
       "      <td>1788391.0</td>\n",
       "      <td>0.000000</td>\n",
       "      <td>0.000000</td>\n",
       "    </tr>\n",
       "    <tr>\n",
       "      <td>3</td>\n",
       "      <td>CORDES WILLIAM R</td>\n",
       "      <td>0.0</td>\n",
       "      <td>764.0</td>\n",
       "      <td>0.0</td>\n",
       "      <td>0.0</td>\n",
       "      <td>0.0</td>\n",
       "      <td>1038185.0</td>\n",
       "      <td>0.0</td>\n",
       "      <td>10.0</td>\n",
       "      <td>651850.0</td>\n",
       "      <td>12.0</td>\n",
       "      <td>0.0</td>\n",
       "      <td>0.0</td>\n",
       "      <td>False</td>\n",
       "      <td>0.0</td>\n",
       "      <td>58.0</td>\n",
       "      <td>386335.0</td>\n",
       "      <td>0.000000</td>\n",
       "      <td>0.454545</td>\n",
       "    </tr>\n",
       "    <tr>\n",
       "      <td>4</td>\n",
       "      <td>HANNON KEVIN P</td>\n",
       "      <td>243293.0</td>\n",
       "      <td>1045.0</td>\n",
       "      <td>288682.0</td>\n",
       "      <td>1500000.0</td>\n",
       "      <td>-3117011.0</td>\n",
       "      <td>6391065.0</td>\n",
       "      <td>34039.0</td>\n",
       "      <td>32.0</td>\n",
       "      <td>5538001.0</td>\n",
       "      <td>32.0</td>\n",
       "      <td>11350.0</td>\n",
       "      <td>21.0</td>\n",
       "      <td>True</td>\n",
       "      <td>1617011.0</td>\n",
       "      <td>1035.0</td>\n",
       "      <td>853064.0</td>\n",
       "      <td>0.019700</td>\n",
       "      <td>0.500000</td>\n",
       "    </tr>\n",
       "  </tbody>\n",
       "</table>\n",
       "</div>"
      ],
      "text/plain": [
       "               name    salary  to_messages  total_payments      bonus  \\\n",
       "0        METTS MARK  365788.0        807.0       1061827.0   600000.0   \n",
       "1     BAXTER JOHN C  267102.0          0.0       5634343.0  1200000.0   \n",
       "2    ELLIOTT STEVEN  170941.0          0.0        211725.0   350000.0   \n",
       "3  CORDES WILLIAM R       0.0        764.0             0.0        0.0   \n",
       "4    HANNON KEVIN P  243293.0       1045.0        288682.0  1500000.0   \n",
       "\n",
       "   deferred_income  total_stock_value  expenses  from_poi_to_this_person  \\\n",
       "0              0.0           585062.0   94299.0                     38.0   \n",
       "1       -1386055.0         10623258.0   11200.0                      0.0   \n",
       "2        -400729.0          6678735.0   78552.0                      0.0   \n",
       "3              0.0          1038185.0       0.0                     10.0   \n",
       "4       -3117011.0          6391065.0   34039.0                     32.0   \n",
       "\n",
       "   exercised_stock_options  from_messages      other  from_this_person_to_poi  \\\n",
       "0                      0.0           29.0     1740.0                      1.0   \n",
       "1                6680544.0            0.0  2660303.0                      0.0   \n",
       "2                4890344.0            0.0    12961.0                      0.0   \n",
       "3                 651850.0           12.0        0.0                      0.0   \n",
       "4                5538001.0           32.0    11350.0                     21.0   \n",
       "\n",
       "     poi  long_term_incentive  shared_receipt_with_poi  restricted_stock  \\\n",
       "0  False                  0.0                    702.0          585062.0   \n",
       "1  False            1586055.0                      0.0         3942714.0   \n",
       "2  False                  0.0                      0.0         1788391.0   \n",
       "3  False                  0.0                     58.0          386335.0   \n",
       "4   True            1617011.0                   1035.0          853064.0   \n",
       "\n",
       "   fraction_emails_to_poi  fraction_emails_from_poi  \n",
       "0                0.001238                  0.567164  \n",
       "1                0.000000                  0.000000  \n",
       "2                0.000000                  0.000000  \n",
       "3                0.000000                  0.454545  \n",
       "4                0.019700                  0.500000  "
      ]
     },
     "execution_count": 18,
     "metadata": {},
     "output_type": "execute_result"
    }
   ],
   "source": [
    "# Removing features\n",
    "\n",
    "enron_df.drop(['email_address', 'deferral_payments', 'loan_advances',\n",
    "               'restricted_stock_deferred', 'director_fees'], axis = 1, inplace = True)\n",
    "\n",
    "# Replacing NaN values with 0.0\n",
    "enron_df.fillna(0.0, inplace=True)\n",
    "\n",
    "enron_df.head()"
   ]
  },
  {
   "cell_type": "code",
   "execution_count": 19,
   "metadata": {},
   "outputs": [
    {
     "data": {
      "text/plain": [
       "0"
      ]
     },
     "execution_count": 19,
     "metadata": {},
     "output_type": "execute_result"
    }
   ],
   "source": [
    "# Taking dataframe and converting to dictionary for processing\n",
    "enron_df.set_index('name')\n",
    "enron_dict = enron_df.to_dict('index')\n",
    "\n",
    "# Removing entry from dictionary because of lack of data\n",
    "enron_dict.pop('LOCKHART EUGENE E',0)\n",
    "\n",
    "#Removing outlier as this will skew data\n",
    "enron_dict.pop('TOTAL',0)\n"
   ]
  },
  {
   "cell_type": "code",
   "execution_count": 20,
   "metadata": {},
   "outputs": [
    {
     "name": "stdout",
     "output_type": "stream",
     "text": [
      "['poi',\n",
      " 'salary',\n",
      " 'to_messages',\n",
      " 'total_payments',\n",
      " 'bonus',\n",
      " 'deferred_income',\n",
      " 'total_stock_value',\n",
      " 'expenses',\n",
      " 'from_poi_to_this_person',\n",
      " 'exercised_stock_options',\n",
      " 'from_messages',\n",
      " 'other',\n",
      " 'from_this_person_to_poi',\n",
      " 'poi',\n",
      " 'long_term_incentive',\n",
      " 'shared_receipt_with_poi',\n",
      " 'restricted_stock',\n",
      " 'fraction_emails_to_poi',\n",
      " 'fraction_emails_from_poi']\n"
     ]
    }
   ],
   "source": [
    "# Creating features list\n",
    "\n",
    "complete_features_list = enron_df.columns.tolist()\n",
    "\n",
    "# Removing 'name' and moving 'poi' to the beginning of the list\n",
    "complete_features_list.pop(0)\n",
    "\n",
    "features_list = ['poi']\n",
    "\n",
    "for n in complete_features_list:\n",
    "    features_list.append(n)\n",
    "\n",
    "printing.pprint(features_list)"
   ]
  },
  {
   "cell_type": "markdown",
   "metadata": {},
   "source": [
    "<a id='selectingfeatures'></a>\n",
    "### Selecting Features\n",
    "\n",
    "</br>\n",
    "\n",
    "- To decide on the best features to use for our project, I will run three lists created from the features I am the most interested in testing.  I will then use the list that has the best scores to run my final test on.  "
   ]
  },
  {
   "cell_type": "code",
   "execution_count": 21,
   "metadata": {},
   "outputs": [],
   "source": [
    "# Importing necessary feature metrics and classifiers\n",
    "\n",
    "from sklearn.naive_bayes import GaussianNB\n",
    "from sklearn.neighbors import KNeighborsClassifier\n",
    "from sklearn.tree import DecisionTreeClassifier\n",
    "from sklearn.metrics import accuracy_score, precision_score, recall_score\n",
    "from sklearn.model_selection import train_test_split\n",
    "from feature_format import featureFormat, targetFeatureSplit"
   ]
  },
  {
   "cell_type": "code",
   "execution_count": 29,
   "metadata": {},
   "outputs": [],
   "source": [
    "# Creating multiple lists of features for testing\n",
    "\n",
    "list_one = ['poi','salary','bonus','fraction_emails_to_poi','exercised_stock_options']\n",
    "list_two = ['poi','bonus','fraction_emails_to_poi','exercised_stock_options']\n",
    "list_three = ['poi','salary','fraction_emails_to_poi','exercised_stock_options']"
   ]
  },
  {
   "cell_type": "code",
   "execution_count": 30,
   "metadata": {},
   "outputs": [],
   "source": [
    "# Creating test_class as to not repeat code for testing\n",
    "\n",
    "def test_class(classifier, features_list, enron_dict):\n",
    "    \n",
    "    data = featureFormat(enron_dict, features_list, sort_keys = True)\n",
    "    labels, features = targetFeatureSplit(data)\n",
    "    features_train, features_test, labels_train, labels_test = train_test_split(features, labels, \n",
    "                                                                            test_size = 0.3, random_state = 42)\n",
    "    \n",
    "    \n",
    "    clf = classifier\n",
    "    clf.fit(features_train, labels_train)\n",
    "    pred = clf.predict(features_test)\n",
    "    \n",
    "    return {'Accuracy': accuracy_score(labels_test,pred),'Precision': precision_score(labels_test,pred),\n",
    "            'Recall': recall_score(labels_test,pred)}"
   ]
  },
  {
   "cell_type": "markdown",
   "metadata": {},
   "source": [
    "- <b> Validation:</b> We are using train_test_split method to split our data and make sure that 30% is left over for testing."
   ]
  },
  {
   "cell_type": "code",
   "execution_count": 31,
   "metadata": {},
   "outputs": [
    {
     "name": "stdout",
     "output_type": "stream",
     "text": [
      "Naive Bayes stats:  {'Accuracy': 0.8181818181818182, 'Precision': 0.2857142857142857, 'Recall': 0.4}\n",
      "Decision Tree stats:  {'Accuracy': 1.0, 'Precision': 1.0, 'Recall': 1.0}\n",
      "K Nearest Neighbors:  {'Accuracy': 0.8409090909090909, 'Precision': 0.25, 'Recall': 0.2}\n"
     ]
    }
   ],
   "source": [
    "# Attempting with full list of features\n",
    "\n",
    "print(\"Naive Bayes stats: \", test_class(GaussianNB(), features_list, enron_dict))\n",
    "print(\"Decision Tree stats: \", test_class(DecisionTreeClassifier(), features_list, enron_dict))\n",
    "print(\"K Nearest Neighbors: \", test_class(KNeighborsClassifier(n_neighbors=3), features_list, enron_dict))"
   ]
  },
  {
   "cell_type": "code",
   "execution_count": 32,
   "metadata": {},
   "outputs": [
    {
     "name": "stdout",
     "output_type": "stream",
     "text": [
      "Test List One:  ['poi', 'salary', 'bonus', 'fraction_emails_to_poi', 'exercised_stock_options']\n",
      "Naive Bayes stats:  {'Accuracy': 0.8461538461538461, 'Precision': 0.3333333333333333, 'Recall': 0.2}\n",
      "Decision Tree stats:  {'Accuracy': 0.6666666666666666, 'Precision': 0.1, 'Recall': 0.2}\n",
      "K Nearest Neighbors:  {'Accuracy': 0.8974358974358975, 'Precision': 0.6, 'Recall': 0.6}\n"
     ]
    }
   ],
   "source": [
    "# Attempting with first list of features\n",
    "\n",
    "print(\"Test List One: \", list_one)\n",
    "print(\"Naive Bayes stats: \", test_class(GaussianNB(), list_one, enron_dict))\n",
    "print(\"Decision Tree stats: \", test_class(DecisionTreeClassifier(), list_one, enron_dict))\n",
    "print(\"K Nearest Neighbors: \", test_class(KNeighborsClassifier(n_neighbors=3), list_one, enron_dict))"
   ]
  },
  {
   "cell_type": "code",
   "execution_count": 33,
   "metadata": {},
   "outputs": [
    {
     "name": "stdout",
     "output_type": "stream",
     "text": [
      "Test List Two:  ['poi', 'bonus', 'fraction_emails_to_poi', 'exercised_stock_options']\n",
      "Naive Bayes stats:  {'Accuracy': 0.868421052631579, 'Precision': 1.0, 'Recall': 0.2857142857142857}\n",
      "Decision Tree stats:  {'Accuracy': 0.868421052631579, 'Precision': 0.6666666666666666, 'Recall': 0.5714285714285714}\n",
      "K Nearest Neighbors:  {'Accuracy': 0.868421052631579, 'Precision': 1.0, 'Recall': 0.2857142857142857}\n"
     ]
    }
   ],
   "source": [
    "# Attempting with second list of features\n",
    "\n",
    "print(\"Test List Two: \", list_two)\n",
    "print(\"Naive Bayes stats: \", test_class(GaussianNB(), list_two, enron_dict))\n",
    "print(\"Decision Tree stats: \", test_class(DecisionTreeClassifier(), list_two, enron_dict))\n",
    "print(\"K Nearest Neighbors: \", test_class(KNeighborsClassifier(n_neighbors=3), list_two, enron_dict))"
   ]
  },
  {
   "cell_type": "code",
   "execution_count": 34,
   "metadata": {},
   "outputs": [
    {
     "name": "stdout",
     "output_type": "stream",
     "text": [
      "Test List Three:  ['poi', 'salary', 'fraction_emails_to_poi', 'exercised_stock_options']\n",
      "Naive Bayes stats:  {'Accuracy': 0.8205128205128205, 'Precision': 0.25, 'Recall': 0.2}\n",
      "Decision Tree stats:  {'Accuracy': 0.7692307692307693, 'Precision': 0.25, 'Recall': 0.4}\n",
      "K Nearest Neighbors:  {'Accuracy': 0.8461538461538461, 'Precision': 0.3333333333333333, 'Recall': 0.2}\n"
     ]
    }
   ],
   "source": [
    "# Attempting with third list of features\n",
    "\n",
    "print(\"Test List Three: \", list_three)\n",
    "print(\"Naive Bayes stats: \", test_class(GaussianNB(), list_three, enron_dict))\n",
    "print(\"Decision Tree stats: \", test_class(DecisionTreeClassifier(), list_three, enron_dict))\n",
    "print(\"K Nearest Neighbors: \", test_class(KNeighborsClassifier(n_neighbors=3), list_three, enron_dict))"
   ]
  },
  {
   "cell_type": "code",
   "execution_count": 38,
   "metadata": {},
   "outputs": [
    {
     "name": "stdout",
     "output_type": "stream",
     "text": [
      "K Nearest Neighbors:  {'Accuracy': 0.8974358974358975, 'Precision': 0.6, 'Recall': 0.6}\n",
      "K Nearest Neighbors:  {'Accuracy': 0.8974358974358975, 'Precision': 0.6666666666666666, 'Recall': 0.4}\n",
      "K Nearest Neighbors:  {'Accuracy': 0.9230769230769231, 'Precision': 0.75, 'Recall': 0.6}\n",
      "K Nearest Neighbors:  {'Accuracy': 0.9230769230769231, 'Precision': 0.75, 'Recall': 0.6}\n"
     ]
    }
   ],
   "source": [
    "print(\"K Nearest Neighbors: \", test_class(KNeighborsClassifier(n_neighbors=3), list_one, enron_dict))\n",
    "print(\"K Nearest Neighbors: \", test_class(KNeighborsClassifier(n_neighbors=2), list_one, enron_dict))\n",
    "print(\"K Nearest Neighbors: \", test_class(KNeighborsClassifier(n_neighbors=4), list_one, enron_dict))\n",
    "print(\"K Nearest Neighbors: \", test_class(KNeighborsClassifier(n_neighbors=5), list_one, enron_dict))"
   ]
  },
  {
   "cell_type": "markdown",
   "metadata": {},
   "source": [
    "- Based on the results printed from the various combinations of feature lists and algorithms, I have decided to use the <u><b>K Nearest Neighbors</b></u> algorithm with feautre list number <b>ONE</b>:\n",
    "    * <b>'poi'\n",
    "    * <b>'salary'\n",
    "    * <b>'bonus'\n",
    "    * <b>'fraction_emails_to_poi'\n",
    "    * <b>'exercised_stock_options'</b>\n",
    "    "
   ]
  },
  {
   "cell_type": "markdown",
   "metadata": {},
   "source": [
    "<a id='parametertuning'></a>\n",
    "### Parameter Tuning\n",
    "\n",
    "- After choosing the correct algorithm and feature list, I tried tuning the parameters of the algorithm.  Mainly, the n_neighbors parameter.  The accuracy and precision scores did seem to get a slight boost by changing the n_neighbors value from it's default 3 to 4.  4 and 5 n_neighbors had the same score so I decided to just use 4.\n",
    "\n",
    "</br>\n",
    "\n",
    "- Here is the comparison:"
   ]
  },
  {
   "cell_type": "code",
   "execution_count": 41,
   "metadata": {},
   "outputs": [
    {
     "name": "stdout",
     "output_type": "stream",
     "text": [
      "K Nearest Neighbors (3):  {'Accuracy': 0.8974358974358975, 'Precision': 0.6, 'Recall': 0.6}\n",
      "K Nearest Neighbors (4):  {'Accuracy': 0.9230769230769231, 'Precision': 0.75, 'Recall': 0.6}\n"
     ]
    }
   ],
   "source": [
    "# Comparison of n_neighbors parameter 3 vs 4\n",
    "\n",
    "print(\"K Nearest Neighbors (3): \", test_class(KNeighborsClassifier(n_neighbors=3), list_one, enron_dict))\n",
    "print(\"K Nearest Neighbors (4): \", test_class(KNeighborsClassifier(n_neighbors=4), list_one, enron_dict))"
   ]
  },
  {
   "cell_type": "code",
   "execution_count": 39,
   "metadata": {},
   "outputs": [
    {
     "name": "stdout",
     "output_type": "stream",
     "text": [
      "Features List chosen:  ['poi', 'salary', 'bonus', 'fraction_emails_to_poi', 'exercised_stock_options']\n",
      "K Nearest Neighbors:  {'Accuracy': 0.9230769230769231, 'Precision': 0.75, 'Recall': 0.6}\n"
     ]
    }
   ],
   "source": [
    "# The winning combination of our project\n",
    "\n",
    "print('Features List chosen: ', list_one)\n",
    "print(\"K Nearest Neighbors: \", test_class(KNeighborsClassifier(n_neighbors=4), list_one, enron_dict))"
   ]
  },
  {
   "cell_type": "markdown",
   "metadata": {},
   "source": [
    "- One thing to note is that I originally ran the features lists with 'total_stock_options' in place of 'exercised_stock_options'.  This resulted in many of the test runs having slightly lower accuracies.  But, more importanly, the precision and recall scores were consistently in the range of .2-.3\n",
    "\n",
    "- Upon changing this one feature, we were able to achieve our current scores of:\n",
    "    - Accuracy: 89.7%\n",
    "    - Precision Score: 60%\n",
    "    - Recall Score: 60%"
   ]
  },
  {
   "cell_type": "markdown",
   "metadata": {},
   "source": [
    "<a id='wrapup'></a>\n",
    "### Project Wrap Up\n",
    "</br>"
   ]
  },
  {
   "cell_type": "markdown",
   "metadata": {},
   "source": [
    "- I believe that the algorithm and feature set chosen has performed well in our testing and implementation despite this being a smaller dataset.  It would have been helpful if the dataset had been larger (who wouldn't want more data!) but you must work with what you are given."
   ]
  },
  {
   "cell_type": "code",
   "execution_count": null,
   "metadata": {},
   "outputs": [],
   "source": []
  }
 ],
 "metadata": {
  "kernelspec": {
   "display_name": "Python 3",
   "language": "python",
   "name": "python3"
  },
  "language_info": {
   "codemirror_mode": {
    "name": "ipython",
    "version": 3
   },
   "file_extension": ".py",
   "mimetype": "text/x-python",
   "name": "python",
   "nbconvert_exporter": "python",
   "pygments_lexer": "ipython3",
   "version": "3.7.4"
  }
 },
 "nbformat": 4,
 "nbformat_minor": 2
}
